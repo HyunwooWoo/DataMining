{
 "cells": [
  {
   "cell_type": "markdown",
   "id": "4e06dc97",
   "metadata": {},
   "source": [
    "# Ensemble (앙상블)\n",
    "### by 우현우 Hyunwoo Woo (Hub1)\n",
    "#### Dept. of Industrial Engineering, Yonsei Univ (Industrial Statistics Lab; ISL 산업통계연구실)\n",
    "#### hw.woo@yonsei.ac.kr   (010 8966 5705)\n",
    "#### blog: https://hub1.tistory.com\n",
    "#### github repository: https://github.com/HyunwooWoo\n",
    "\n",
    "##### ----------------------------------------------------------------------------------"
   ]
  },
  {
   "cell_type": "markdown",
   "id": "f270abeb",
   "metadata": {},
   "source": [
    "# Bootstrapping"
   ]
  },
  {
   "cell_type": "code",
   "execution_count": 1,
   "id": "6dedfcf7",
   "metadata": {},
   "outputs": [],
   "source": [
    "import numpy as np"
   ]
  },
  {
   "cell_type": "code",
   "execution_count": 11,
   "id": "bcbe3f0d",
   "metadata": {},
   "outputs": [],
   "source": [
    "# 평균 함수\n",
    "def mean(inp):\n",
    "    result = 0\n",
    "    len_inp = len(inp)    \n",
    "    for i in inp:\n",
    "        result += i\n",
    "    result = result / len_inp\n",
    "    return result"
   ]
  },
  {
   "cell_type": "code",
   "execution_count": 12,
   "id": "b51f75dd",
   "metadata": {},
   "outputs": [],
   "source": [
    "# 모수 생성 (백만 개)\n",
    "mom = list(np.random.normal(size = 1000000))\n",
    "\n",
    "# 표본 생성 (만 개)\n",
    "random_index = np.random.permutation(len(mom))\n",
    "random_index = random_index[:10000]\n",
    "son = []\n",
    "for i in random_index:\n",
    "    son.append(mom[i])"
   ]
  },
  {
   "cell_type": "code",
   "execution_count": 13,
   "id": "a0dad013",
   "metadata": {},
   "outputs": [
    {
     "data": {
      "text/plain": [
       "0.0013716129984151758"
      ]
     },
     "execution_count": 13,
     "metadata": {},
     "output_type": "execute_result"
    }
   ],
   "source": [
    "mean(mom)"
   ]
  },
  {
   "cell_type": "code",
   "execution_count": 14,
   "id": "dc8df817",
   "metadata": {},
   "outputs": [],
   "source": [
    "# 샘플링\n",
    "# inp : son\n",
    "def sample(inp):\n",
    "    random_index = np.random.permutation(len(inp))\n",
    "    random_index = random_index[:1000]\n",
    "    result = []\n",
    "    for i in random_index:\n",
    "        result.append(inp[i])\n",
    "    return result"
   ]
  },
  {
   "cell_type": "code",
   "execution_count": 15,
   "id": "e636e329",
   "metadata": {},
   "outputs": [],
   "source": [
    "# 샘플링 평균 함수\n",
    "# inp1 : son, inp2 : number of repetitions\n",
    "def accumulation(inp1, inp2):\n",
    "    result = []\n",
    "    for i in range(inp2):\n",
    "        son = mean(sample(inp1))\n",
    "        result.append(son)\n",
    "    result = mean(result)\n",
    "    return result"
   ]
  },
  {
   "cell_type": "code",
   "execution_count": 16,
   "id": "ad88de57",
   "metadata": {},
   "outputs": [],
   "source": [
    "# 반복횟수에 따른 표본들의 평균\n",
    "# inp1 : son, inp2 : list of (number of. repetitions)\n",
    "def compare(inp1, inp2):\n",
    "    for i in inp2:\n",
    "        result = accumulation(inp1, i)\n",
    "        print(str(i) + \":\" + str(result))"
   ]
  },
  {
   "cell_type": "code",
   "execution_count": 17,
   "id": "b8af5a68",
   "metadata": {},
   "outputs": [],
   "source": [
    "# 10회, 100회, 1,000회, 10,000회\n",
    "cycle= [10, 100, 1000, 10000]"
   ]
  },
  {
   "cell_type": "code",
   "execution_count": 18,
   "id": "57fe4450",
   "metadata": {
    "scrolled": false
   },
   "outputs": [
    {
     "name": "stdout",
     "output_type": "stream",
     "text": [
      "10:0.006572485384228684\n",
      "100:0.00914482678743361\n",
      "1000:0.005379378167399985\n",
      "10000:0.005736361867235731\n"
     ]
    }
   ],
   "source": [
    "compare(son, cycle)"
   ]
  },
  {
   "cell_type": "markdown",
   "id": "c58e94f3",
   "metadata": {},
   "source": [
    "# Dataset 구축"
   ]
  },
  {
   "cell_type": "code",
   "execution_count": 20,
   "id": "00f33072",
   "metadata": {},
   "outputs": [],
   "source": [
    "## 1.기본\n",
    "import numpy as np  # numpy 패키지 가져오기\n",
    "import matplotlib.pyplot as plt # 시각화 패키지 가져오기\n",
    "\n",
    "## 2.데이터 가져오기\n",
    "import pandas as pd # csv -> dataframe으로 전환\n",
    "from sklearn import datasets # python 저장 데이터 가져오기\n",
    "\n",
    "## 3.데이터 전처리\n",
    "from sklearn.preprocessing import StandardScaler # 연속변수의 표준화\n",
    "from sklearn.preprocessing import LabelEncoder # 범주형 변수 수치화\n",
    "\n",
    "# 4. 훈련/검증용 데이터 분리\n",
    "from sklearn.model_selection import train_test_split \n",
    "\n",
    "## 5.분류모델구축\n",
    "from sklearn.tree import DecisionTreeClassifier # 결정 트리\n",
    "# from sklearn.naive_bayes import GaussianNB # 나이브 베이즈\n",
    "from sklearn.neighbors import KNeighborsClassifier # K-최근접 이웃\n",
    "# from sklearn.linear_model import Perceptron # 퍼셉트론\n",
    "from sklearn.linear_model import LogisticRegression # 로지스틱 회귀 모델\n",
    "# from sklearn.svm import SVC # 서포트 벡터 머신(SVM)\n",
    "# from sklearn.neural_network import MLPClassifier # 다층인공신경망\n",
    "\n",
    "## 5_1.앙상블 모델 구축\n",
    "from sklearn.ensemble import VotingClassifier # 과반수 투표(Majority Voting) \n",
    "from sklearn.ensemble import BaggingClassifier # 배깅(Bagging) \n",
    "from sklearn.ensemble import AdaBoostClassifier # 부스팅(Boosting) \n",
    "from sklearn.ensemble import RandomForestClassifier # 랜덤 포레스트\n",
    "\n",
    "\n",
    "## 6.모델검정\n",
    "from sklearn.metrics import confusion_matrix, classification_report # 정오분류표\n",
    "from sklearn.metrics import accuracy_score, precision_score, recall_score, f1_score, roc_auc_score # 정확도, 민감도 등\n",
    "from sklearn.metrics import roc_curve, auc # ROC 곡선 그리기\n",
    "\n",
    "## 7.최적화\n",
    "from sklearn.model_selection import cross_validate # 교차타당도\n",
    "from sklearn.pipeline import make_pipeline # 파이프라인 구축\n",
    "from sklearn.model_selection import learning_curve, validation_curve # 학습곡선, 검증곡선\n",
    "from sklearn.model_selection import GridSearchCV # 하이퍼파라미터 튜닝\n",
    "from sklearn.model_selection import cross_val_score # 교차타당도 # 추가"
   ]
  },
  {
   "cell_type": "code",
   "execution_count": 22,
   "id": "0632f91c",
   "metadata": {},
   "outputs": [
    {
     "data": {
      "text/html": [
       "<div>\n",
       "<style scoped>\n",
       "    .dataframe tbody tr th:only-of-type {\n",
       "        vertical-align: middle;\n",
       "    }\n",
       "\n",
       "    .dataframe tbody tr th {\n",
       "        vertical-align: top;\n",
       "    }\n",
       "\n",
       "    .dataframe thead th {\n",
       "        text-align: right;\n",
       "    }\n",
       "</style>\n",
       "<table border=\"1\" class=\"dataframe\">\n",
       "  <thead>\n",
       "    <tr style=\"text-align: right;\">\n",
       "      <th></th>\n",
       "      <th>ID</th>\n",
       "      <th>Age</th>\n",
       "      <th>Experience</th>\n",
       "      <th>Income</th>\n",
       "      <th>ZIPCode</th>\n",
       "      <th>Family</th>\n",
       "      <th>CCAvg</th>\n",
       "      <th>Education</th>\n",
       "      <th>Mortgage</th>\n",
       "      <th>PersonalLoan</th>\n",
       "      <th>SecuritiesAccount</th>\n",
       "      <th>CDAccount</th>\n",
       "      <th>Online</th>\n",
       "      <th>CreditCard</th>\n",
       "    </tr>\n",
       "  </thead>\n",
       "  <tbody>\n",
       "    <tr>\n",
       "      <th>0</th>\n",
       "      <td>1</td>\n",
       "      <td>25</td>\n",
       "      <td>1</td>\n",
       "      <td>49</td>\n",
       "      <td>91107</td>\n",
       "      <td>4</td>\n",
       "      <td>1.6</td>\n",
       "      <td>1</td>\n",
       "      <td>0</td>\n",
       "      <td>0</td>\n",
       "      <td>1</td>\n",
       "      <td>0</td>\n",
       "      <td>0</td>\n",
       "      <td>0</td>\n",
       "    </tr>\n",
       "    <tr>\n",
       "      <th>1</th>\n",
       "      <td>2</td>\n",
       "      <td>45</td>\n",
       "      <td>19</td>\n",
       "      <td>34</td>\n",
       "      <td>90089</td>\n",
       "      <td>3</td>\n",
       "      <td>1.5</td>\n",
       "      <td>1</td>\n",
       "      <td>0</td>\n",
       "      <td>0</td>\n",
       "      <td>1</td>\n",
       "      <td>0</td>\n",
       "      <td>0</td>\n",
       "      <td>0</td>\n",
       "    </tr>\n",
       "    <tr>\n",
       "      <th>2</th>\n",
       "      <td>3</td>\n",
       "      <td>39</td>\n",
       "      <td>15</td>\n",
       "      <td>11</td>\n",
       "      <td>94720</td>\n",
       "      <td>1</td>\n",
       "      <td>1.0</td>\n",
       "      <td>1</td>\n",
       "      <td>0</td>\n",
       "      <td>0</td>\n",
       "      <td>0</td>\n",
       "      <td>0</td>\n",
       "      <td>0</td>\n",
       "      <td>0</td>\n",
       "    </tr>\n",
       "    <tr>\n",
       "      <th>3</th>\n",
       "      <td>4</td>\n",
       "      <td>35</td>\n",
       "      <td>9</td>\n",
       "      <td>100</td>\n",
       "      <td>94112</td>\n",
       "      <td>1</td>\n",
       "      <td>2.7</td>\n",
       "      <td>2</td>\n",
       "      <td>0</td>\n",
       "      <td>0</td>\n",
       "      <td>0</td>\n",
       "      <td>0</td>\n",
       "      <td>0</td>\n",
       "      <td>0</td>\n",
       "    </tr>\n",
       "    <tr>\n",
       "      <th>4</th>\n",
       "      <td>5</td>\n",
       "      <td>35</td>\n",
       "      <td>8</td>\n",
       "      <td>45</td>\n",
       "      <td>91330</td>\n",
       "      <td>4</td>\n",
       "      <td>1.0</td>\n",
       "      <td>2</td>\n",
       "      <td>0</td>\n",
       "      <td>0</td>\n",
       "      <td>0</td>\n",
       "      <td>0</td>\n",
       "      <td>0</td>\n",
       "      <td>1</td>\n",
       "    </tr>\n",
       "  </tbody>\n",
       "</table>\n",
       "</div>"
      ],
      "text/plain": [
       "   ID  Age  Experience  Income  ZIPCode  Family  CCAvg  Education  Mortgage  \\\n",
       "0   1   25           1      49    91107       4    1.6          1         0   \n",
       "1   2   45          19      34    90089       3    1.5          1         0   \n",
       "2   3   39          15      11    94720       1    1.0          1         0   \n",
       "3   4   35           9     100    94112       1    2.7          2         0   \n",
       "4   5   35           8      45    91330       4    1.0          2         0   \n",
       "\n",
       "   PersonalLoan  SecuritiesAccount  CDAccount  Online  CreditCard  \n",
       "0             0                  1          0       0           0  \n",
       "1             0                  1          0       0           0  \n",
       "2             0                  0          0       0           0  \n",
       "3             0                  0          0       0           0  \n",
       "4             0                  0          0       0           1  "
      ]
     },
     "execution_count": 22,
     "metadata": {},
     "output_type": "execute_result"
    }
   ],
   "source": [
    "bank_df = pd.read_csv('UniversalBank.csv')\n",
    "bank_df.head()"
   ]
  },
  {
   "cell_type": "code",
   "execution_count": 23,
   "id": "ca20b919",
   "metadata": {},
   "outputs": [
    {
     "data": {
      "text/plain": [
       "(5000, 14)"
      ]
     },
     "execution_count": 23,
     "metadata": {},
     "output_type": "execute_result"
    }
   ],
   "source": [
    "bank_df.shape"
   ]
  },
  {
   "cell_type": "code",
   "execution_count": 24,
   "id": "1fb9953d",
   "metadata": {},
   "outputs": [
    {
     "data": {
      "text/plain": [
       "Index(['ID', 'Age', 'Experience', 'Income', 'ZIPCode', 'Family', 'CCAvg',\n",
       "       'Education', 'Mortgage', 'PersonalLoan', 'SecuritiesAccount',\n",
       "       'CDAccount', 'Online', 'CreditCard'],\n",
       "      dtype='object')"
      ]
     },
     "execution_count": 24,
     "metadata": {},
     "output_type": "execute_result"
    }
   ],
   "source": [
    "# 자료구조 살펴보기\n",
    "bank_df.keys()"
   ]
  },
  {
   "cell_type": "code",
   "execution_count": 25,
   "id": "a087d2db",
   "metadata": {},
   "outputs": [
    {
     "data": {
      "text/html": [
       "<div>\n",
       "<style scoped>\n",
       "    .dataframe tbody tr th:only-of-type {\n",
       "        vertical-align: middle;\n",
       "    }\n",
       "\n",
       "    .dataframe tbody tr th {\n",
       "        vertical-align: top;\n",
       "    }\n",
       "\n",
       "    .dataframe thead th {\n",
       "        text-align: right;\n",
       "    }\n",
       "</style>\n",
       "<table border=\"1\" class=\"dataframe\">\n",
       "  <thead>\n",
       "    <tr style=\"text-align: right;\">\n",
       "      <th></th>\n",
       "      <th>Age</th>\n",
       "      <th>Experience</th>\n",
       "      <th>Income</th>\n",
       "      <th>Family</th>\n",
       "      <th>CCAvg</th>\n",
       "      <th>Education</th>\n",
       "      <th>Mortgage</th>\n",
       "      <th>SecuritiesAccount</th>\n",
       "      <th>CDAccount</th>\n",
       "      <th>Online</th>\n",
       "      <th>CreditCard</th>\n",
       "    </tr>\n",
       "  </thead>\n",
       "  <tbody>\n",
       "    <tr>\n",
       "      <th>0</th>\n",
       "      <td>25</td>\n",
       "      <td>1</td>\n",
       "      <td>49</td>\n",
       "      <td>4</td>\n",
       "      <td>1.6</td>\n",
       "      <td>1</td>\n",
       "      <td>0</td>\n",
       "      <td>1</td>\n",
       "      <td>0</td>\n",
       "      <td>0</td>\n",
       "      <td>0</td>\n",
       "    </tr>\n",
       "    <tr>\n",
       "      <th>1</th>\n",
       "      <td>45</td>\n",
       "      <td>19</td>\n",
       "      <td>34</td>\n",
       "      <td>3</td>\n",
       "      <td>1.5</td>\n",
       "      <td>1</td>\n",
       "      <td>0</td>\n",
       "      <td>1</td>\n",
       "      <td>0</td>\n",
       "      <td>0</td>\n",
       "      <td>0</td>\n",
       "    </tr>\n",
       "    <tr>\n",
       "      <th>2</th>\n",
       "      <td>39</td>\n",
       "      <td>15</td>\n",
       "      <td>11</td>\n",
       "      <td>1</td>\n",
       "      <td>1.0</td>\n",
       "      <td>1</td>\n",
       "      <td>0</td>\n",
       "      <td>0</td>\n",
       "      <td>0</td>\n",
       "      <td>0</td>\n",
       "      <td>0</td>\n",
       "    </tr>\n",
       "    <tr>\n",
       "      <th>3</th>\n",
       "      <td>35</td>\n",
       "      <td>9</td>\n",
       "      <td>100</td>\n",
       "      <td>1</td>\n",
       "      <td>2.7</td>\n",
       "      <td>2</td>\n",
       "      <td>0</td>\n",
       "      <td>0</td>\n",
       "      <td>0</td>\n",
       "      <td>0</td>\n",
       "      <td>0</td>\n",
       "    </tr>\n",
       "    <tr>\n",
       "      <th>4</th>\n",
       "      <td>35</td>\n",
       "      <td>8</td>\n",
       "      <td>45</td>\n",
       "      <td>4</td>\n",
       "      <td>1.0</td>\n",
       "      <td>2</td>\n",
       "      <td>0</td>\n",
       "      <td>0</td>\n",
       "      <td>0</td>\n",
       "      <td>0</td>\n",
       "      <td>1</td>\n",
       "    </tr>\n",
       "  </tbody>\n",
       "</table>\n",
       "</div>"
      ],
      "text/plain": [
       "   Age  Experience  Income  Family  CCAvg  Education  Mortgage  \\\n",
       "0   25           1      49       4    1.6          1         0   \n",
       "1   45          19      34       3    1.5          1         0   \n",
       "2   39          15      11       1    1.0          1         0   \n",
       "3   35           9     100       1    2.7          2         0   \n",
       "4   35           8      45       4    1.0          2         0   \n",
       "\n",
       "   SecuritiesAccount  CDAccount  Online  CreditCard  \n",
       "0                  1          0       0           0  \n",
       "1                  1          0       0           0  \n",
       "2                  0          0       0           0  \n",
       "3                  0          0       0           0  \n",
       "4                  0          0       0           1  "
      ]
     },
     "execution_count": 25,
     "metadata": {},
     "output_type": "execute_result"
    }
   ],
   "source": [
    "# 필요한 data만 추출 & Feature와 Target으로 구분\n",
    "X = bank_df.drop (['ID','ZIPCode','PersonalLoan'], axis=1)\n",
    "X.head()"
   ]
  },
  {
   "cell_type": "code",
   "execution_count": 26,
   "id": "31d84297",
   "metadata": {},
   "outputs": [
    {
     "data": {
      "text/plain": [
       "array([4520,  480], dtype=int64)"
      ]
     },
     "execution_count": 26,
     "metadata": {},
     "output_type": "execute_result"
    }
   ],
   "source": [
    "y = bank_df['PersonalLoan']\n",
    "np.bincount(y)"
   ]
  },
  {
   "cell_type": "markdown",
   "id": "ced7449a",
   "metadata": {},
   "source": [
    "### Data (X) 처리\n",
    "\n",
    "- 문자형 자료를 숫자(범주형)로 인코딩 -> 범주형 변수를 가변수로 처리 : One Hot Encording\n",
    "- 숫자형 자료를 표준화\n",
    "- 단, 결정나무, 랜덤 포레스트, 나이브 베이즈 분류 : 원본데이터 그대로 유지\n",
    "\n",
    "(가변수 처리시 문자로 처리를 해야 변수명 구분이 쉬움)"
   ]
  },
  {
   "cell_type": "code",
   "execution_count": 27,
   "id": "a6bdaa57",
   "metadata": {},
   "outputs": [
    {
     "data": {
      "text/html": [
       "<div>\n",
       "<style scoped>\n",
       "    .dataframe tbody tr th:only-of-type {\n",
       "        vertical-align: middle;\n",
       "    }\n",
       "\n",
       "    .dataframe tbody tr th {\n",
       "        vertical-align: top;\n",
       "    }\n",
       "\n",
       "    .dataframe thead th {\n",
       "        text-align: right;\n",
       "    }\n",
       "</style>\n",
       "<table border=\"1\" class=\"dataframe\">\n",
       "  <thead>\n",
       "    <tr style=\"text-align: right;\">\n",
       "      <th></th>\n",
       "      <th>Age</th>\n",
       "      <th>Experience</th>\n",
       "      <th>Income</th>\n",
       "      <th>Family</th>\n",
       "      <th>CCAvg</th>\n",
       "      <th>Education</th>\n",
       "      <th>Mortgage</th>\n",
       "      <th>SecuritiesAccount</th>\n",
       "      <th>CDAccount</th>\n",
       "      <th>Online</th>\n",
       "      <th>CreditCard</th>\n",
       "    </tr>\n",
       "  </thead>\n",
       "  <tbody>\n",
       "    <tr>\n",
       "      <th>0</th>\n",
       "      <td>25</td>\n",
       "      <td>1</td>\n",
       "      <td>49</td>\n",
       "      <td>4</td>\n",
       "      <td>1.6</td>\n",
       "      <td>Under</td>\n",
       "      <td>0</td>\n",
       "      <td>1</td>\n",
       "      <td>0</td>\n",
       "      <td>0</td>\n",
       "      <td>0</td>\n",
       "    </tr>\n",
       "    <tr>\n",
       "      <th>1</th>\n",
       "      <td>45</td>\n",
       "      <td>19</td>\n",
       "      <td>34</td>\n",
       "      <td>3</td>\n",
       "      <td>1.5</td>\n",
       "      <td>Under</td>\n",
       "      <td>0</td>\n",
       "      <td>1</td>\n",
       "      <td>0</td>\n",
       "      <td>0</td>\n",
       "      <td>0</td>\n",
       "    </tr>\n",
       "    <tr>\n",
       "      <th>2</th>\n",
       "      <td>39</td>\n",
       "      <td>15</td>\n",
       "      <td>11</td>\n",
       "      <td>1</td>\n",
       "      <td>1.0</td>\n",
       "      <td>Under</td>\n",
       "      <td>0</td>\n",
       "      <td>0</td>\n",
       "      <td>0</td>\n",
       "      <td>0</td>\n",
       "      <td>0</td>\n",
       "    </tr>\n",
       "    <tr>\n",
       "      <th>3</th>\n",
       "      <td>35</td>\n",
       "      <td>9</td>\n",
       "      <td>100</td>\n",
       "      <td>1</td>\n",
       "      <td>2.7</td>\n",
       "      <td>Grad</td>\n",
       "      <td>0</td>\n",
       "      <td>0</td>\n",
       "      <td>0</td>\n",
       "      <td>0</td>\n",
       "      <td>0</td>\n",
       "    </tr>\n",
       "    <tr>\n",
       "      <th>4</th>\n",
       "      <td>35</td>\n",
       "      <td>8</td>\n",
       "      <td>45</td>\n",
       "      <td>4</td>\n",
       "      <td>1.0</td>\n",
       "      <td>Grad</td>\n",
       "      <td>0</td>\n",
       "      <td>0</td>\n",
       "      <td>0</td>\n",
       "      <td>0</td>\n",
       "      <td>1</td>\n",
       "    </tr>\n",
       "  </tbody>\n",
       "</table>\n",
       "</div>"
      ],
      "text/plain": [
       "   Age  Experience  Income  Family  CCAvg Education  Mortgage  \\\n",
       "0   25           1      49       4    1.6     Under         0   \n",
       "1   45          19      34       3    1.5     Under         0   \n",
       "2   39          15      11       1    1.0     Under         0   \n",
       "3   35           9     100       1    2.7      Grad         0   \n",
       "4   35           8      45       4    1.0      Grad         0   \n",
       "\n",
       "   SecuritiesAccount  CDAccount  Online  CreditCard  \n",
       "0                  1          0       0           0  \n",
       "1                  1          0       0           0  \n",
       "2                  0          0       0           0  \n",
       "3                  0          0       0           0  \n",
       "4                  0          0       0           1  "
      ]
     },
     "execution_count": 27,
     "metadata": {},
     "output_type": "execute_result"
    }
   ],
   "source": [
    "X['Education'] = X['Education'].replace ([1,2,3], ['Under','Grad','Prof'])\n",
    "X.head()"
   ]
  },
  {
   "cell_type": "code",
   "execution_count": 28,
   "id": "ba836152",
   "metadata": {},
   "outputs": [
    {
     "data": {
      "text/plain": [
       "Index(['Age', 'Experience', 'Income', 'Family', 'CCAvg', 'Education',\n",
       "       'Mortgage', 'SecuritiesAccount', 'CDAccount', 'Online', 'CreditCard'],\n",
       "      dtype='object')"
      ]
     },
     "execution_count": 28,
     "metadata": {},
     "output_type": "execute_result"
    }
   ],
   "source": [
    "X.keys()"
   ]
  },
  {
   "cell_type": "code",
   "execution_count": 29,
   "id": "f26bd628",
   "metadata": {},
   "outputs": [
    {
     "data": {
      "text/html": [
       "<div>\n",
       "<style scoped>\n",
       "    .dataframe tbody tr th:only-of-type {\n",
       "        vertical-align: middle;\n",
       "    }\n",
       "\n",
       "    .dataframe tbody tr th {\n",
       "        vertical-align: top;\n",
       "    }\n",
       "\n",
       "    .dataframe thead th {\n",
       "        text-align: right;\n",
       "    }\n",
       "</style>\n",
       "<table border=\"1\" class=\"dataframe\">\n",
       "  <thead>\n",
       "    <tr style=\"text-align: right;\">\n",
       "      <th></th>\n",
       "      <th>Age</th>\n",
       "      <th>Experience</th>\n",
       "      <th>Income</th>\n",
       "      <th>Family</th>\n",
       "      <th>CCAvg</th>\n",
       "      <th>Mortgage</th>\n",
       "      <th>SecuritiesAccount</th>\n",
       "      <th>CDAccount</th>\n",
       "      <th>Online</th>\n",
       "      <th>CreditCard</th>\n",
       "      <th>Education_Prof</th>\n",
       "      <th>Education_Under</th>\n",
       "    </tr>\n",
       "  </thead>\n",
       "  <tbody>\n",
       "    <tr>\n",
       "      <th>0</th>\n",
       "      <td>25</td>\n",
       "      <td>1</td>\n",
       "      <td>49</td>\n",
       "      <td>4</td>\n",
       "      <td>1.6</td>\n",
       "      <td>0</td>\n",
       "      <td>1</td>\n",
       "      <td>0</td>\n",
       "      <td>0</td>\n",
       "      <td>0</td>\n",
       "      <td>0</td>\n",
       "      <td>1</td>\n",
       "    </tr>\n",
       "    <tr>\n",
       "      <th>1</th>\n",
       "      <td>45</td>\n",
       "      <td>19</td>\n",
       "      <td>34</td>\n",
       "      <td>3</td>\n",
       "      <td>1.5</td>\n",
       "      <td>0</td>\n",
       "      <td>1</td>\n",
       "      <td>0</td>\n",
       "      <td>0</td>\n",
       "      <td>0</td>\n",
       "      <td>0</td>\n",
       "      <td>1</td>\n",
       "    </tr>\n",
       "    <tr>\n",
       "      <th>2</th>\n",
       "      <td>39</td>\n",
       "      <td>15</td>\n",
       "      <td>11</td>\n",
       "      <td>1</td>\n",
       "      <td>1.0</td>\n",
       "      <td>0</td>\n",
       "      <td>0</td>\n",
       "      <td>0</td>\n",
       "      <td>0</td>\n",
       "      <td>0</td>\n",
       "      <td>0</td>\n",
       "      <td>1</td>\n",
       "    </tr>\n",
       "    <tr>\n",
       "      <th>3</th>\n",
       "      <td>35</td>\n",
       "      <td>9</td>\n",
       "      <td>100</td>\n",
       "      <td>1</td>\n",
       "      <td>2.7</td>\n",
       "      <td>0</td>\n",
       "      <td>0</td>\n",
       "      <td>0</td>\n",
       "      <td>0</td>\n",
       "      <td>0</td>\n",
       "      <td>0</td>\n",
       "      <td>0</td>\n",
       "    </tr>\n",
       "    <tr>\n",
       "      <th>4</th>\n",
       "      <td>35</td>\n",
       "      <td>8</td>\n",
       "      <td>45</td>\n",
       "      <td>4</td>\n",
       "      <td>1.0</td>\n",
       "      <td>0</td>\n",
       "      <td>0</td>\n",
       "      <td>0</td>\n",
       "      <td>0</td>\n",
       "      <td>1</td>\n",
       "      <td>0</td>\n",
       "      <td>0</td>\n",
       "    </tr>\n",
       "  </tbody>\n",
       "</table>\n",
       "</div>"
      ],
      "text/plain": [
       "   Age  Experience  Income  Family  CCAvg  Mortgage  SecuritiesAccount  \\\n",
       "0   25           1      49       4    1.6         0                  1   \n",
       "1   45          19      34       3    1.5         0                  1   \n",
       "2   39          15      11       1    1.0         0                  0   \n",
       "3   35           9     100       1    2.7         0                  0   \n",
       "4   35           8      45       4    1.0         0                  0   \n",
       "\n",
       "   CDAccount  Online  CreditCard  Education_Prof  Education_Under  \n",
       "0          0       0           0               0                1  \n",
       "1          0       0           0               0                1  \n",
       "2          0       0           0               0                1  \n",
       "3          0       0           0               0                0  \n",
       "4          0       0           1               0                0  "
      ]
     },
     "execution_count": 29,
     "metadata": {},
     "output_type": "execute_result"
    }
   ],
   "source": [
    "X = pd.get_dummies(X[['Age', 'Experience', 'Income', 'Family', 'CCAvg', 'Education', \n",
    "                      'Mortgage', 'SecuritiesAccount', 'CDAccount', 'Online', 'CreditCard']],\n",
    "                   columns=['Education'],\n",
    "                   drop_first = True)\n",
    "\n",
    "X.head()"
   ]
  },
  {
   "cell_type": "code",
   "execution_count": 30,
   "id": "9cf59ced",
   "metadata": {},
   "outputs": [
    {
     "data": {
      "text/plain": [
       "0       0\n",
       "1       0\n",
       "2       0\n",
       "3       0\n",
       "4       0\n",
       "       ..\n",
       "4995    0\n",
       "4996    0\n",
       "4997    0\n",
       "4998    0\n",
       "4999    0\n",
       "Name: PersonalLoan, Length: 5000, dtype: int64"
      ]
     },
     "execution_count": 30,
     "metadata": {},
     "output_type": "execute_result"
    }
   ],
   "source": [
    "y"
   ]
  },
  {
   "cell_type": "code",
   "execution_count": 31,
   "id": "10aa8b7a",
   "metadata": {},
   "outputs": [
    {
     "data": {
      "text/plain": [
       "PersonalLoan\n",
       "0               4520\n",
       "1                480\n",
       "dtype: int64"
      ]
     },
     "execution_count": 31,
     "metadata": {},
     "output_type": "execute_result"
    }
   ],
   "source": [
    "pd.DataFrame(y).value_counts()"
   ]
  },
  {
   "cell_type": "code",
   "execution_count": 32,
   "id": "ea94902b",
   "metadata": {},
   "outputs": [],
   "source": [
    "# train : test = 7:3 (stratified)\n",
    "X_train, X_test, y_train, y_test =train_test_split(X, y, test_size=0.3, random_state=2021, stratify=y)"
   ]
  },
  {
   "cell_type": "markdown",
   "id": "3bb3c8a5",
   "metadata": {},
   "source": [
    "# Bagging (Bootstrap Aggregation)"
   ]
  },
  {
   "cell_type": "markdown",
   "id": "a815922f",
   "metadata": {},
   "source": [
    "## Random Forest\n",
    "- Python: CART 활용\n",
    "\n",
    "도움링크: https://ek-koh.github.io/data%20analysis/random-forest/"
   ]
  },
  {
   "cell_type": "code",
   "execution_count": 33,
   "id": "05a40bd0",
   "metadata": {},
   "outputs": [
    {
     "name": "stdout",
     "output_type": "stream",
     "text": [
      "DT - 최적 하이퍼 파라미터:\n",
      " {'max_depth': 6, 'min_samples_leaf': 10}\n",
      "DT - 최고 예측 정확도: 0.9840\n"
     ]
    }
   ],
   "source": [
    "# Decision Tree 최적화\n",
    "params_tree = {\n",
    "    'max_depth':[2,3,4,5,6],\n",
    "    'min_samples_leaf':[10, 20, 30, 40, 50]\n",
    "}\n",
    "\n",
    "tree = DecisionTreeClassifier(random_state=2021, criterion='gini')\n",
    "grid_cv_tree = GridSearchCV(tree, param_grid=params_tree, cv=10, n_jobs=-1, scoring='accuracy')\n",
    "grid_cv_tree.fit(X_train, y_train)\n",
    "\n",
    "print('DT - 최적 하이퍼 파라미터:\\n', grid_cv_tree.best_params_)\n",
    "print('DT - 최고 예측 정확도: {0:.4f}'.format(grid_cv_tree.best_score_))\n",
    "\n",
    "# parameter 확인: https://injo.tistory.com/15\n",
    "## 추가 도움: https://www.inflearn.com/questions/42608"
   ]
  },
  {
   "cell_type": "code",
   "execution_count": 34,
   "id": "c8b6c0a9",
   "metadata": {},
   "outputs": [
    {
     "name": "stdout",
     "output_type": "stream",
     "text": [
      "RF - 최적 하이퍼 파라미터:\n",
      " {'max_depth': 6, 'min_samples_leaf': 10, 'n_estimators': 200}\n",
      "RF - 최고 예측 정확도: 0.9777\n"
     ]
    }
   ],
   "source": [
    "# Random Forest 최적화\n",
    "params_rf = {\n",
    "    'n_estimators':[100, 200, 300 ,400],\n",
    "    'max_depth' : [2, 3, 4, 5, 6], \n",
    "    'min_samples_leaf' : [10, 20, 30, 40, 50]\n",
    "}\n",
    "\n",
    "forest = RandomForestClassifier(random_state=2021, criterion='gini', n_jobs=-1)\n",
    "grid_cv_rf = GridSearchCV(forest, param_grid=params_rf, cv=10, n_jobs=-1, scoring='accuracy')\n",
    "grid_cv_rf.fit(X_train, y_train)\n",
    "\n",
    "print('RF - 최적 하이퍼 파라미터:\\n', grid_cv_rf.best_params_)\n",
    "print('RF - 최고 예측 정확도: {0:.4f}'.format(grid_cv_rf.best_score_))\n",
    "\n",
    "# parameter 확인: https://injo.tistory.com/30"
   ]
  },
  {
   "cell_type": "code",
   "execution_count": 35,
   "id": "7bc4779c",
   "metadata": {},
   "outputs": [],
   "source": [
    "tree = DecisionTreeClassifier(criterion='gini',\n",
    "                              max_depth=6,\n",
    "                              min_samples_leaf=10,\n",
    "                              random_state=2021)\n",
    "\n",
    "forest = RandomForestClassifier(criterion='gini',\n",
    "                                max_depth=6,\n",
    "                                min_samples_leaf=10,\n",
    "                                n_estimators=200,\n",
    "                                random_state=2021)\n",
    "\n",
    "# RandomForestClassifier 내에서의 hyper-parmeter:\n",
    "# n_estimators : 랜덤 포레스트에서 사용하는 결정 트리의 개수 지정(디폴트는 100)\n",
    "# max_features : 디폴트가 None이 아니라 sqrt(=auto)\n",
    "\n",
    "clf_labels = ['Decision tree', 'Random forest']\n",
    "\n",
    "all_clf = [tree, forest]\n",
    "\n",
    "\n",
    "# Random Forest 이외에 다른 것을 쓰고 싶다면 아래의 코드 이용\n",
    "# 또는, BaggingClassifier()에서 괄호 안에 base_estimator = tree 로 할 경우, Random Forest가 작동됨.\n",
    "#('Random forest'자리에 'bagging' 입력)\n",
    "\n",
    "#bagging = BaggingClassifier(base_estimator=tree, # 수정\n",
    "#                            n_estimators=500,  \n",
    "#                            max_samples=1.0, \n",
    "#                            max_features=1.0, \n",
    "#                            bootstrap=True, \n",
    "#                            bootstrap_features=False, \n",
    "#                            n_jobs=1, \n",
    "#                            random_state=2021)\n",
    "### 파라미터 확인: https://scikit-learn.org/stable/modules/generated/sklearn.ensemble.BaggingClassifier.html"
   ]
  },
  {
   "cell_type": "code",
   "execution_count": 36,
   "id": "ff37ab93",
   "metadata": {},
   "outputs": [
    {
     "name": "stdout",
     "output_type": "stream",
     "text": [
      "ROC AUC: 0.978 (+/- 0.020) [Decision tree]\n",
      "ROC AUC: 0.995 (+/- 0.003) [Random forest]\n"
     ]
    }
   ],
   "source": [
    "# AUC 검정\n",
    "for clf, label in zip(all_clf, clf_labels):\n",
    "    scores = cross_val_score(estimator=clf,\n",
    "                             X=X_train,\n",
    "                             y=y_train,\n",
    "                             cv=10,\n",
    "                             scoring='roc_auc')\n",
    "    print(\"ROC AUC: %0.3f (+/- %0.3f) [%s]\"\n",
    "          % (scores.mean(), scores.std(), label))"
   ]
  },
  {
   "cell_type": "code",
   "execution_count": 37,
   "id": "9a72311e",
   "metadata": {},
   "outputs": [
    {
     "data": {
      "image/png": "[encoded data removed]",
      "text/plain": [
       "<Figure size 432x288 with 1 Axes>"
      ]
     },
     "metadata": {
      "needs_background": "light"
     },
     "output_type": "display_data"
    }
   ],
   "source": [
    "# ROC Curve\n",
    "\n",
    "colors = ['black', 'orange', 'blue', 'green']\n",
    "linestyles = [':', '--', '-.', '-']\n",
    "\n",
    "for clf, label, clr, ls \\\n",
    "        in zip(all_clf, clf_labels, colors, linestyles):\n",
    "\n",
    "    clf.fit(X_train, y_train)\n",
    "    y_pred = clf.predict_proba(X_test)[:, 1]\n",
    "    fpr, tpr, thresholds = roc_curve(y_true=y_test,\n",
    "                                     y_score=y_pred)\n",
    "    roc_auc = auc(x=fpr, y=tpr)\n",
    "    plt.plot(fpr, tpr,\n",
    "             color=clr,\n",
    "             linestyle=ls,\n",
    "             label='%s (auc = %0.3f)' % (label, roc_auc))\n",
    "\n",
    "plt.legend(loc='lower right')\n",
    "plt.plot([0, 1], [0, 1],\n",
    "         linestyle='--',\n",
    "         color='gray',\n",
    "         linewidth=2)\n",
    "\n",
    "plt.xlim([-0.1, 1.1])\n",
    "plt.ylim([-0.1, 1.1])\n",
    "plt.grid(alpha=0.5)\n",
    "plt.xlabel('False positive rate (FPR)')\n",
    "plt.ylabel('True positive rate (TPR)')\n",
    "\n",
    "plt.show()"
   ]
  },
  {
   "cell_type": "code",
   "execution_count": 38,
   "id": "8274e20f",
   "metadata": {},
   "outputs": [
    {
     "data": {
      "text/plain": [
       "RandomForestClassifier(max_depth=6, min_samples_leaf=10, n_estimators=200,\n",
       "                       random_state=2021)"
      ]
     },
     "execution_count": 38,
     "metadata": {},
     "output_type": "execute_result"
    }
   ],
   "source": [
    "# Confusion Matrix\n",
    "forest.fit(X_train, y_train)"
   ]
  },
  {
   "cell_type": "code",
   "execution_count": 39,
   "id": "fbce8061",
   "metadata": {},
   "outputs": [],
   "source": [
    "y_pred = forest.predict(X_test)"
   ]
  },
  {
   "cell_type": "code",
   "execution_count": 40,
   "id": "5583b4fa",
   "metadata": {},
   "outputs": [
    {
     "data": {
      "text/html": [
       "<div>\n",
       "<style scoped>\n",
       "    .dataframe tbody tr th:only-of-type {\n",
       "        vertical-align: middle;\n",
       "    }\n",
       "\n",
       "    .dataframe tbody tr th {\n",
       "        vertical-align: top;\n",
       "    }\n",
       "\n",
       "    .dataframe thead th {\n",
       "        text-align: right;\n",
       "    }\n",
       "</style>\n",
       "<table border=\"1\" class=\"dataframe\">\n",
       "  <thead>\n",
       "    <tr style=\"text-align: right;\">\n",
       "      <th></th>\n",
       "      <th>Predict[0]</th>\n",
       "      <th>Predict[1]</th>\n",
       "    </tr>\n",
       "  </thead>\n",
       "  <tbody>\n",
       "    <tr>\n",
       "      <th>True[0]</th>\n",
       "      <td>1356</td>\n",
       "      <td>0</td>\n",
       "    </tr>\n",
       "    <tr>\n",
       "      <th>True[1]</th>\n",
       "      <td>29</td>\n",
       "      <td>115</td>\n",
       "    </tr>\n",
       "  </tbody>\n",
       "</table>\n",
       "</div>"
      ],
      "text/plain": [
       "         Predict[0]  Predict[1]\n",
       "True[0]        1356           0\n",
       "True[1]          29         115"
      ]
     },
     "execution_count": 40,
     "metadata": {},
     "output_type": "execute_result"
    }
   ],
   "source": [
    "confmat = pd.DataFrame(confusion_matrix(y_test, y_pred),\n",
    "                      index=['True[0]','True[1]'],\n",
    "                      columns=['Predict[0]', 'Predict[1]'])\n",
    "confmat"
   ]
  },
  {
   "cell_type": "code",
   "execution_count": 41,
   "id": "00bd4919",
   "metadata": {},
   "outputs": [
    {
     "name": "stdout",
     "output_type": "stream",
     "text": [
      "잘못 분류된 샘플 개수: 29\n",
      "정확도: 0.981\n",
      "정밀도: 1.000\n",
      "재현율: 0.799\n",
      "F1: 0.888\n"
     ]
    }
   ],
   "source": [
    "print('잘못 분류된 샘플 개수: %d' % (y_test != y_pred).sum())\n",
    "print('정확도: %.3f' % accuracy_score(y_test, y_pred))\n",
    "print('정밀도: %.3f' % precision_score(y_true=y_test, y_pred=y_pred))\n",
    "print('재현율: %.3f' % recall_score(y_true=y_test, y_pred=y_pred))\n",
    "print('F1: %.3f' % f1_score(y_true=y_test, y_pred=y_pred))"
   ]
  },
  {
   "cell_type": "code",
   "execution_count": 42,
   "id": "a0b09c69",
   "metadata": {},
   "outputs": [
    {
     "name": "stdout",
     "output_type": "stream",
     "text": [
      " 1) Income                         0.372561\n",
      " 2) CCAvg                          0.182276\n",
      " 3) Education_Under                0.156894\n",
      " 4) Family                         0.101560\n",
      " 5) CDAccount                      0.077824\n",
      " 6) Education_Prof                 0.044143\n",
      " 7) Mortgage                       0.033100\n",
      " 8) Age                            0.012785\n",
      " 9) Experience                     0.012142\n",
      "10) CreditCard                     0.003462\n",
      "11) Online                         0.001783\n",
      "12) SecuritiesAccount              0.001470\n"
     ]
    },
    {
     "data": {
      "image/png": "[encoded data removed]",
      "text/plain": [
       "<Figure size 432x288 with 1 Axes>"
      ]
     },
     "metadata": {
      "needs_background": "light"
     },
     "output_type": "display_data"
    }
   ],
   "source": [
    "# Feature Importance\n",
    "\n",
    "feat_labels = X.columns\n",
    "\n",
    "importances = forest.feature_importances_\n",
    "\n",
    "indices = np.argsort(importances)[::-1]\n",
    "\n",
    "for f in range(X_train.shape[1]):\n",
    "    print(\"%2d) %-*s %f\" % (f + 1, 30, \n",
    "                            feat_labels[indices[f]], \n",
    "                            importances[indices[f]]))\n",
    "\n",
    "plt.title('Feature Importance')\n",
    "plt.bar(range(X_train.shape[1]), \n",
    "        importances[indices],\n",
    "        align='center')\n",
    "\n",
    "plt.xticks(range(X_train.shape[1]), \n",
    "           feat_labels[indices], rotation=90)\n",
    "plt.xlim([-1, X_train.shape[1]])\n",
    "plt.tight_layout()\n",
    "plt.show()"
   ]
  },
  {
   "cell_type": "code",
   "execution_count": 43,
   "id": "a1b7b706",
   "metadata": {},
   "outputs": [
    {
     "name": "stdout",
     "output_type": "stream",
     "text": [
      "이 임계 조건을 만족하는 Feature의 수: 4\n"
     ]
    }
   ],
   "source": [
    "from sklearn.feature_selection import SelectFromModel\n",
    "\n",
    "sfm = SelectFromModel(forest, \n",
    "                      threshold=0.1, \n",
    "                      prefit=True)\n",
    "\n",
    "X_selected = sfm.transform(X_train)\n",
    "\n",
    "print('이 임계 조건을 만족하는 Feature의 수:', X_selected.shape[1])"
   ]
  },
  {
   "cell_type": "code",
   "execution_count": 44,
   "id": "f5859ef8",
   "metadata": {},
   "outputs": [
    {
     "name": "stdout",
     "output_type": "stream",
     "text": [
      " 1) Income                         0.372561\n",
      " 2) CCAvg                          0.182276\n",
      " 3) Education_Under                0.156894\n",
      " 4) Family                         0.101560\n"
     ]
    }
   ],
   "source": [
    "for f in range(X_selected.shape[1]):\n",
    "    print(\"%2d) %-*s %f\" % (f + 1, 30, \n",
    "                            feat_labels[indices[f]], \n",
    "                            importances[indices[f]]))"
   ]
  },
  {
   "cell_type": "markdown",
   "id": "e0af300e",
   "metadata": {},
   "source": [
    "# Boosting (Arcing; Adaptive Resampling and Combining)"
   ]
  },
  {
   "cell_type": "markdown",
   "id": "6321780c",
   "metadata": {},
   "source": [
    "## Adaboost (Adaptive boosting)"
   ]
  },
  {
   "cell_type": "code",
   "execution_count": 49,
   "id": "6e2da352",
   "metadata": {},
   "outputs": [
    {
     "name": "stdout",
     "output_type": "stream",
     "text": [
      "Adaboost - 최적 하이퍼 파라미터:\n",
      " {'learning_rate': 1.0, 'n_estimators': 50}\n",
      "Adaboost - 최고 예측 정확도: 0.9874\n"
     ]
    }
   ],
   "source": [
    "# Adaboost 최적화\n",
    "params_adaboost = {\n",
    "    'n_estimators':[50, 100, 150, 200, 250, 300, 350, 400],\n",
    "    'learning_rate' : [1.0, 0.5, 0.1, 0.05, 0.01]\n",
    "}\n",
    "\n",
    "adaboost = AdaBoostClassifier(base_estimator=tree, random_state=2021)\n",
    "grid_cv_adaboost = GridSearchCV(adaboost, param_grid=params_adaboost, cv=10, n_jobs=-1, scoring='accuracy')\n",
    "grid_cv_adaboost.fit(X_train, y_train)\n",
    "\n",
    "print('Adaboost - 최적 하이퍼 파라미터:\\n', grid_cv_adaboost.best_params_)\n",
    "print('Adaboost - 최고 예측 정확도: {0:.4f}'.format(grid_cv_adaboost.best_score_))\n",
    "\n",
    "# parameter 확인: https://injo.tistory.com/31\n",
    "# 확인2: https://scikit-learn.org/stable/modules/generated/sklearn.ensemble.AdaBoostClassifier.html"
   ]
  },
  {
   "cell_type": "code",
   "execution_count": 83,
   "id": "d66c810b",
   "metadata": {},
   "outputs": [],
   "source": [
    "tree = DecisionTreeClassifier(criterion='gini',\n",
    "                              max_depth=6,\n",
    "                              min_samples_leaf=10,\n",
    "                              random_state=2021) # tree는 앞에서 구한 최적의 tree를 그대로 활용\n",
    "\n",
    "adaboost = AdaBoostClassifier(base_estimator=tree, # 수정\n",
    "                              n_estimators=50,\n",
    "                              learning_rate = 1.0, # 수정\n",
    "                              random_state=2021)\n",
    "\n",
    "clf_labels = ['Decision tree', 'Adaboost']\n",
    "\n",
    "all_clf = [tree, adaboost]"
   ]
  },
  {
   "cell_type": "code",
   "execution_count": 84,
   "id": "97b24654",
   "metadata": {},
   "outputs": [
    {
     "name": "stdout",
     "output_type": "stream",
     "text": [
      "ROC AUC: 0.978 (+/- 0.020) [Decision tree]\n",
      "ROC AUC: 0.997 (+/- 0.003) [Adaboost]\n"
     ]
    }
   ],
   "source": [
    "# AUC\n",
    "\n",
    "for clf, label in zip(all_clf, clf_labels):\n",
    "    scores = cross_val_score(estimator=clf,\n",
    "                             X=X_train,\n",
    "                             y=y_train,\n",
    "                             cv=10,\n",
    "                             scoring='roc_auc')\n",
    "    print(\"ROC AUC: %0.3f (+/- %0.3f) [%s]\"\n",
    "          % (scores.mean(), scores.std(), label))"
   ]
  },
  {
   "cell_type": "code",
   "execution_count": 85,
   "id": "d0935a77",
   "metadata": {},
   "outputs": [
    {
     "data": {
      "image/png": "[encoded data removed]",
      "text/plain": [
       "<Figure size 432x288 with 1 Axes>"
      ]
     },
     "metadata": {
      "needs_background": "light"
     },
     "output_type": "display_data"
    }
   ],
   "source": [
    "# ROC Curve\n",
    "\n",
    "colors = ['black', 'orange', 'blue', 'green']\n",
    "linestyles = [':', '--', '-.', '-']\n",
    "\n",
    "for clf, label, clr, ls \\\n",
    "        in zip(all_clf, clf_labels, colors, linestyles):\n",
    "\n",
    "    clf.fit(X_train, y_train)\n",
    "    y_pred = clf.predict_proba(X_test)[:, 1]\n",
    "    fpr, tpr, thresholds = roc_curve(y_true=y_test,\n",
    "                                     y_score=y_pred)\n",
    "    roc_auc = auc(x=fpr, y=tpr)\n",
    "    plt.plot(fpr, tpr,\n",
    "             color=clr,\n",
    "             linestyle=ls,\n",
    "             label='%s (auc = %0.3f)' % (label, roc_auc))\n",
    "\n",
    "plt.legend(loc='lower right')\n",
    "plt.plot([0, 1], [0, 1],\n",
    "         linestyle='--',\n",
    "         color='gray',\n",
    "         linewidth=2)\n",
    "\n",
    "plt.xlim([-0.1, 1.1])\n",
    "plt.ylim([-0.1, 1.1])\n",
    "plt.grid(alpha=0.5)\n",
    "plt.xlabel('False positive rate (FPR)')\n",
    "plt.ylabel('True positive rate (TPR)')\n",
    "\n",
    "plt.show()"
   ]
  },
  {
   "cell_type": "code",
   "execution_count": 86,
   "id": "804189a0",
   "metadata": {},
   "outputs": [
    {
     "data": {
      "text/plain": [
       "AdaBoostClassifier(base_estimator=DecisionTreeClassifier(max_depth=6,\n",
       "                                                         min_samples_leaf=10,\n",
       "                                                         random_state=2021),\n",
       "                   random_state=2021)"
      ]
     },
     "execution_count": 86,
     "metadata": {},
     "output_type": "execute_result"
    }
   ],
   "source": [
    "# Confusion Matrix\n",
    "adaboost.fit(X_train, y_train)"
   ]
  },
  {
   "cell_type": "code",
   "execution_count": 87,
   "id": "a807ecb5",
   "metadata": {},
   "outputs": [],
   "source": [
    "y_pred = adaboost.predict(X_test)"
   ]
  },
  {
   "cell_type": "code",
   "execution_count": 88,
   "id": "0a89fab6",
   "metadata": {},
   "outputs": [
    {
     "data": {
      "text/html": [
       "<div>\n",
       "<style scoped>\n",
       "    .dataframe tbody tr th:only-of-type {\n",
       "        vertical-align: middle;\n",
       "    }\n",
       "\n",
       "    .dataframe tbody tr th {\n",
       "        vertical-align: top;\n",
       "    }\n",
       "\n",
       "    .dataframe thead th {\n",
       "        text-align: right;\n",
       "    }\n",
       "</style>\n",
       "<table border=\"1\" class=\"dataframe\">\n",
       "  <thead>\n",
       "    <tr style=\"text-align: right;\">\n",
       "      <th></th>\n",
       "      <th>Predict[0]</th>\n",
       "      <th>Predict[1]</th>\n",
       "    </tr>\n",
       "  </thead>\n",
       "  <tbody>\n",
       "    <tr>\n",
       "      <th>True[0]</th>\n",
       "      <td>1354</td>\n",
       "      <td>2</td>\n",
       "    </tr>\n",
       "    <tr>\n",
       "      <th>True[1]</th>\n",
       "      <td>11</td>\n",
       "      <td>133</td>\n",
       "    </tr>\n",
       "  </tbody>\n",
       "</table>\n",
       "</div>"
      ],
      "text/plain": [
       "         Predict[0]  Predict[1]\n",
       "True[0]        1354           2\n",
       "True[1]          11         133"
      ]
     },
     "execution_count": 88,
     "metadata": {},
     "output_type": "execute_result"
    }
   ],
   "source": [
    "confmat = pd.DataFrame(confusion_matrix(y_test, y_pred),\n",
    "                      index=['True[0]','True[1]'],\n",
    "                      columns=['Predict[0]', 'Predict[1]'])\n",
    "confmat"
   ]
  },
  {
   "cell_type": "code",
   "execution_count": 89,
   "id": "c76b080d",
   "metadata": {},
   "outputs": [
    {
     "name": "stdout",
     "output_type": "stream",
     "text": [
      "잘못 분류된 샘플 개수: 13\n",
      "정확도: 0.991\n",
      "정밀도: 0.985\n",
      "재현율: 0.924\n",
      "F1: 0.953\n"
     ]
    }
   ],
   "source": [
    "print('잘못 분류된 샘플 개수: %d' % (y_test != y_pred).sum())\n",
    "print('정확도: %.3f' % accuracy_score(y_test, y_pred))\n",
    "print('정밀도: %.3f' % precision_score(y_true=y_test, y_pred=y_pred))\n",
    "print('재현율: %.3f' % recall_score(y_true=y_test, y_pred=y_pred))\n",
    "print('F1: %.3f' % f1_score(y_true=y_test, y_pred=y_pred))"
   ]
  },
  {
   "cell_type": "code",
   "execution_count": 93,
   "id": "f94dfd88",
   "metadata": {},
   "outputs": [
    {
     "name": "stdout",
     "output_type": "stream",
     "text": [
      " 1) CCAvg                          0.254341\n",
      " 2) Experience                     0.182001\n",
      " 3) Income                         0.131925\n",
      " 4) Family                         0.093202\n",
      " 5) Education_Under                0.075997\n",
      " 6) Online                         0.037700\n",
      " 7) Education_Prof                 0.029012\n",
      " 8) Mortgage                       0.025708\n",
      " 9) SecuritiesAccount              0.021360\n",
      "10) CreditCard                     0.020019\n",
      "11) CDAccount                      0.008910\n",
      "12) Age                            0.000000\n"
     ]
    },
    {
     "data": {
      "image/png": "[encoded data removed]",
      "text/plain": [
       "<Figure size 432x288 with 1 Axes>"
      ]
     },
     "metadata": {
      "needs_background": "light"
     },
     "output_type": "display_data"
    }
   ],
   "source": [
    "# Feature Importance\n",
    "\n",
    "feat_labels = X.columns\n",
    "\n",
    "importances = adaboost.feature_importances_\n",
    "importances[np.isnan(importances)] = 0 # adaboost.feature_importances_ 확인할 경우, Age가 nan으로 나와서 0처리\n",
    "\n",
    "indices = np.argsort(importances)[::-1]\n",
    "\n",
    "for f in range(X_train.shape[1]):\n",
    "    print(\"%2d) %-*s %f\" % (f + 1, 30, \n",
    "                            feat_labels[indices[f]], \n",
    "                            importances[indices[f]]))\n",
    "\n",
    "plt.title('Feature Importance')\n",
    "plt.bar(range(X_train.shape[1]), \n",
    "        importances[indices],\n",
    "        align='center')\n",
    "\n",
    "plt.xticks(range(X_train.shape[1]), \n",
    "           feat_labels[indices], rotation=90)\n",
    "plt.xlim([-1, X_train.shape[1]])\n",
    "plt.tight_layout()\n",
    "plt.show()"
   ]
  },
  {
   "cell_type": "markdown",
   "id": "c8c60c6e",
   "metadata": {},
   "source": [
    "## XGBoost (eXtreme Gradient Boosting)"
   ]
  },
  {
   "cell_type": "markdown",
   "id": "ed8dbf1f",
   "metadata": {},
   "source": [
    "### 설치\n",
    "\n",
    "\"ANACONDA.NAVIGATOR\" 실행 > \"Environments\" > \"본인 (가상)환경\" ▶ 클릭 > \"Open Terminal\" 선택 > 아래 문장을 입력:\n",
    "\n",
    "conda install -c anaconda py-xgboost\n",
    "\n",
    "(중간에 질문나올경우: y 입력)\n",
    "\n",
    "설치 완료시, 다음의 문장을 마지막으로 입력하고 완료되면 끝:\n",
    "\n",
    "pip install xgboost 로 마무리\n",
    "\n",
    "https://lsjsj92.tistory.com/546"
   ]
  },
  {
   "cell_type": "code",
   "execution_count": 57,
   "id": "b78a3e17",
   "metadata": {},
   "outputs": [],
   "source": [
    "from xgboost import plot_importance\n",
    "from xgboost import XGBClassifier"
   ]
  },
  {
   "cell_type": "markdown",
   "id": "a887776c",
   "metadata": {},
   "source": [
    "### 최적화"
   ]
  },
  {
   "cell_type": "code",
   "execution_count": 58,
   "id": "5f93ceca",
   "metadata": {},
   "outputs": [
    {
     "name": "stdout",
     "output_type": "stream",
     "text": [
      "Fitting 5 folds for each of 210 candidates, totalling 1050 fits\n"
     ]
    },
    {
     "name": "stderr",
     "output_type": "stream",
     "text": [
      "[Parallel(n_jobs=-1)]: Using backend LokyBackend with 8 concurrent workers.\n",
      "[Parallel(n_jobs=-1)]: Done  34 tasks      | elapsed:    6.5s\n",
      "[Parallel(n_jobs=-1)]: Done 184 tasks      | elapsed:   20.9s\n",
      "[Parallel(n_jobs=-1)]: Done 434 tasks      | elapsed:   47.7s\n",
      "[Parallel(n_jobs=-1)]: Done 784 tasks      | elapsed:  1.5min\n",
      "[Parallel(n_jobs=-1)]: Done 1050 out of 1050 | elapsed:  2.1min finished\n"
     ]
    },
    {
     "data": {
      "text/plain": [
       "GridSearchCV(estimator=XGBClassifier(base_score=None, booster=None,\n",
       "                                     colsample_bylevel=None,\n",
       "                                     colsample_bynode=None,\n",
       "                                     colsample_bytree=None,\n",
       "                                     eval_metric='logloss', gamma=None,\n",
       "                                     gpu_id=None, importance_type='gain',\n",
       "                                     interaction_constraints=None,\n",
       "                                     learning_rate=None, max_delta_step=None,\n",
       "                                     max_depth=None, min_child_weight=None,\n",
       "                                     missing=nan, monotone_constraints=None,\n",
       "                                     n_esti...\n",
       "                                     num_parallel_tree=None, random_state=2021,\n",
       "                                     reg_alpha=None, reg_lambda=None,\n",
       "                                     scale_pos_weight=None, subsample=None,\n",
       "                                     tree_method=None, use_label_encoder=False,\n",
       "                                     validate_parameters=None, verbosity=None),\n",
       "             n_jobs=-1,\n",
       "             param_grid={'learning_rate': [1.0, 0.5, 0.1, 0.05, 0.01],\n",
       "                         'max_depth': [2, 3, 4, 5, 6, 7, 8],\n",
       "                         'n_estimators': [50, 100, 150, 200, 250, 300]},\n",
       "             scoring='accuracy', verbose=1)"
      ]
     },
     "execution_count": 58,
     "metadata": {},
     "output_type": "execute_result"
    }
   ],
   "source": [
    "xgb = XGBClassifier(eval_metric='logloss',random_state=2021, use_label_encoder=False)\n",
    "# use_label_encoder=False로 해야함 (이제 사용하지 않는 오래된 패키지를 끄겠다 라는 것)\n",
    "## 참고: https://stackoverflow.com/questions/45251126/deprecation-warning-on-xgboost-sklearn\n",
    "## 참고2: https://injo.tistory.com/44?category=1068433\n",
    "\n",
    "xgb_param_grid = {\n",
    "    'n_estimators' : [50, 100, 150, 200, 250, 300],\n",
    "    'learning_rate' : [1.0, 0.5, 0.1, 0.05, 0.01],\n",
    "    'max_depth' : [2, 3, 4, 5, 6, 7, 8]\n",
    "}\n",
    "\n",
    "xgb_grid = GridSearchCV(xgb, param_grid = xgb_param_grid, scoring=\"accuracy\", n_jobs= -1, verbose = 1)\n",
    "xgb_grid.fit(X_train, y_train)\n",
    "\n",
    "# 튜닝 참고: https://teddylee777.github.io/scikit-learn/grid-search-%EB%A1%9C-hyperparameter%EC%B5%9C%EC%A0%81%ED%99%94\n",
    "# 튜닝 참고: https://www.kaggle.com/lifesailor/xgboost"
   ]
  },
  {
   "cell_type": "code",
   "execution_count": 59,
   "id": "ad7b7b6c",
   "metadata": {},
   "outputs": [
    {
     "name": "stdout",
     "output_type": "stream",
     "text": [
      "최고 평균 정확도 : 0.9886\n",
      "최고의 파라미터 :  {'learning_rate': 0.5, 'max_depth': 3, 'n_estimators': 50}\n"
     ]
    }
   ],
   "source": [
    "print(\"최고 평균 정확도 : {0:.4f}\".format(xgb_grid.best_score_))\n",
    "print(\"최고의 파라미터 : \", xgb_grid.best_params_)"
   ]
  },
  {
   "cell_type": "code",
   "execution_count": 63,
   "id": "5f76b863",
   "metadata": {},
   "outputs": [],
   "source": [
    "# 최적값 적용\n",
    "xgb = XGBClassifier(learning_rate = 0.5, max_depth = 3, n_estimators=50, eval_metric='logloss', random_state=2021,\n",
    "                    use_label_encoder=False)\n",
    "\n",
    "\n",
    "\n",
    "xgb.fit(X_train, y_train)\n",
    "# Early Stopping을 사용할 수도 있음:\n",
    "## evals = [(X_test, y_test)]\n",
    "## xgb.fit(X_train, y_train, early_stopping_rounds = 10, eval_metric = \"logloss\", eval_set = evals, verbose = 1)\n",
    "xgb_pred = xgb.predict(X_test)"
   ]
  },
  {
   "cell_type": "code",
   "execution_count": 66,
   "id": "719a3889",
   "metadata": {},
   "outputs": [],
   "source": [
    "def metrics(y_test, pred):\n",
    "    accuracy = accuracy_score(y_test, pred)\n",
    "    precision = precision_score(y_test, pred)\n",
    "    recall = recall_score(y_test, pred)\n",
    "    f1 = f1_score(y_test, pred)\n",
    "    roc_score = roc_auc_score(y_test, pred)\n",
    "    print('정확도 : {0:.4f}, 정밀도 : {1:.4f}, 재현율 : {2:.4f}'.format(accuracy, precision, recall))\n",
    "    print('f1-score : {0:.4f}, auc : {1:.4f}'.format(f1, roc_score))"
   ]
  },
  {
   "cell_type": "code",
   "execution_count": 67,
   "id": "257dd415",
   "metadata": {},
   "outputs": [
    {
     "name": "stdout",
     "output_type": "stream",
     "text": [
      "정확도 : 0.9887, 정밀도 : 0.9635, 재현율 : 0.9167\n",
      "f1-score : 0.9395, auc : 0.9565\n"
     ]
    }
   ],
   "source": [
    "metrics(y_test, xgb_pred)"
   ]
  },
  {
   "cell_type": "code",
   "execution_count": 74,
   "id": "6f51747f",
   "metadata": {},
   "outputs": [],
   "source": [
    "clf_labels = ['Decision tree', 'XGBoost']\n",
    "\n",
    "all_clf = [tree, xgb]"
   ]
  },
  {
   "cell_type": "code",
   "execution_count": 75,
   "id": "f5ebae64",
   "metadata": {},
   "outputs": [
    {
     "name": "stdout",
     "output_type": "stream",
     "text": [
      "ROC AUC: 0.978 (+/- 0.020) [Decision tree]\n",
      "ROC AUC: 0.997 (+/- 0.002) [XGBoost]\n"
     ]
    }
   ],
   "source": [
    "# AUC\n",
    "\n",
    "for clf, label in zip(all_clf, clf_labels):\n",
    "    scores = cross_val_score(estimator=clf,\n",
    "                             X=X_train,\n",
    "                             y=y_train,\n",
    "                             cv=10,\n",
    "                             scoring='roc_auc')\n",
    "    print(\"ROC AUC: %0.3f (+/- %0.3f) [%s]\"\n",
    "          % (scores.mean(), scores.std(), label))"
   ]
  },
  {
   "cell_type": "code",
   "execution_count": 76,
   "id": "f042d9b3",
   "metadata": {},
   "outputs": [
    {
     "data": {
      "image/png": "[encoded data removed]",
      "text/plain": [
       "<Figure size 432x288 with 1 Axes>"
      ]
     },
     "metadata": {
      "needs_background": "light"
     },
     "output_type": "display_data"
    }
   ],
   "source": [
    "# ROC Curve\n",
    "\n",
    "colors = ['black', 'orange', 'blue', 'green']\n",
    "linestyles = [':', '--', '-.', '-']\n",
    "\n",
    "for clf, label, clr, ls \\\n",
    "        in zip(all_clf, clf_labels, colors, linestyles):\n",
    "\n",
    "    clf.fit(X_train, y_train)\n",
    "    y_pred = clf.predict_proba(X_test)[:, 1]\n",
    "    fpr, tpr, thresholds = roc_curve(y_true=y_test,\n",
    "                                     y_score=y_pred)\n",
    "    roc_auc = auc(x=fpr, y=tpr)\n",
    "    plt.plot(fpr, tpr,\n",
    "             color=clr,\n",
    "             linestyle=ls,\n",
    "             label='%s (auc = %0.3f)' % (label, roc_auc))\n",
    "\n",
    "plt.legend(loc='lower right')\n",
    "plt.plot([0, 1], [0, 1],\n",
    "         linestyle='--',\n",
    "         color='gray',\n",
    "         linewidth=2)\n",
    "\n",
    "plt.xlim([-0.1, 1.1])\n",
    "plt.ylim([-0.1, 1.1])\n",
    "plt.grid(alpha=0.5)\n",
    "plt.xlabel('False positive rate (FPR)')\n",
    "plt.ylabel('True positive rate (TPR)')\n",
    "\n",
    "plt.show()"
   ]
  },
  {
   "cell_type": "code",
   "execution_count": 68,
   "id": "aa520bd7",
   "metadata": {},
   "outputs": [],
   "source": [
    "result = pd.DataFrame(xgb_grid.cv_results_)\n",
    "result.sort_values(by=['rank_test_score'], inplace=True)"
   ]
  },
  {
   "cell_type": "code",
   "execution_count": 69,
   "id": "8051e3b2",
   "metadata": {},
   "outputs": [
    {
     "data": {
      "text/html": [
       "<div>\n",
       "<style scoped>\n",
       "    .dataframe tbody tr th:only-of-type {\n",
       "        vertical-align: middle;\n",
       "    }\n",
       "\n",
       "    .dataframe tbody tr th {\n",
       "        vertical-align: top;\n",
       "    }\n",
       "\n",
       "    .dataframe thead th {\n",
       "        text-align: right;\n",
       "    }\n",
       "</style>\n",
       "<table border=\"1\" class=\"dataframe\">\n",
       "  <thead>\n",
       "    <tr style=\"text-align: right;\">\n",
       "      <th></th>\n",
       "      <th>params</th>\n",
       "      <th>mean_test_score</th>\n",
       "      <th>rank_test_score</th>\n",
       "    </tr>\n",
       "  </thead>\n",
       "  <tbody>\n",
       "    <tr>\n",
       "      <th>48</th>\n",
       "      <td>{'learning_rate': 0.5, 'max_depth': 3, 'n_esti...</td>\n",
       "      <td>0.988571</td>\n",
       "      <td>1</td>\n",
       "    </tr>\n",
       "    <tr>\n",
       "      <th>49</th>\n",
       "      <td>{'learning_rate': 0.5, 'max_depth': 3, 'n_esti...</td>\n",
       "      <td>0.988286</td>\n",
       "      <td>2</td>\n",
       "    </tr>\n",
       "    <tr>\n",
       "      <th>51</th>\n",
       "      <td>{'learning_rate': 0.5, 'max_depth': 3, 'n_esti...</td>\n",
       "      <td>0.987714</td>\n",
       "      <td>3</td>\n",
       "    </tr>\n",
       "    <tr>\n",
       "      <th>44</th>\n",
       "      <td>{'learning_rate': 0.5, 'max_depth': 2, 'n_esti...</td>\n",
       "      <td>0.987714</td>\n",
       "      <td>3</td>\n",
       "    </tr>\n",
       "    <tr>\n",
       "      <th>47</th>\n",
       "      <td>{'learning_rate': 0.5, 'max_depth': 2, 'n_esti...</td>\n",
       "      <td>0.987714</td>\n",
       "      <td>3</td>\n",
       "    </tr>\n",
       "    <tr>\n",
       "      <th>50</th>\n",
       "      <td>{'learning_rate': 0.5, 'max_depth': 3, 'n_esti...</td>\n",
       "      <td>0.987714</td>\n",
       "      <td>3</td>\n",
       "    </tr>\n",
       "    <tr>\n",
       "      <th>46</th>\n",
       "      <td>{'learning_rate': 0.5, 'max_depth': 2, 'n_esti...</td>\n",
       "      <td>0.987429</td>\n",
       "      <td>7</td>\n",
       "    </tr>\n",
       "    <tr>\n",
       "      <th>95</th>\n",
       "      <td>{'learning_rate': 0.1, 'max_depth': 3, 'n_esti...</td>\n",
       "      <td>0.987429</td>\n",
       "      <td>7</td>\n",
       "    </tr>\n",
       "    <tr>\n",
       "      <th>53</th>\n",
       "      <td>{'learning_rate': 0.5, 'max_depth': 3, 'n_esti...</td>\n",
       "      <td>0.987429</td>\n",
       "      <td>7</td>\n",
       "    </tr>\n",
       "    <tr>\n",
       "      <th>52</th>\n",
       "      <td>{'learning_rate': 0.5, 'max_depth': 3, 'n_esti...</td>\n",
       "      <td>0.987429</td>\n",
       "      <td>7</td>\n",
       "    </tr>\n",
       "  </tbody>\n",
       "</table>\n",
       "</div>"
      ],
      "text/plain": [
       "                                               params  mean_test_score  \\\n",
       "48  {'learning_rate': 0.5, 'max_depth': 3, 'n_esti...         0.988571   \n",
       "49  {'learning_rate': 0.5, 'max_depth': 3, 'n_esti...         0.988286   \n",
       "51  {'learning_rate': 0.5, 'max_depth': 3, 'n_esti...         0.987714   \n",
       "44  {'learning_rate': 0.5, 'max_depth': 2, 'n_esti...         0.987714   \n",
       "47  {'learning_rate': 0.5, 'max_depth': 2, 'n_esti...         0.987714   \n",
       "50  {'learning_rate': 0.5, 'max_depth': 3, 'n_esti...         0.987714   \n",
       "46  {'learning_rate': 0.5, 'max_depth': 2, 'n_esti...         0.987429   \n",
       "95  {'learning_rate': 0.1, 'max_depth': 3, 'n_esti...         0.987429   \n",
       "53  {'learning_rate': 0.5, 'max_depth': 3, 'n_esti...         0.987429   \n",
       "52  {'learning_rate': 0.5, 'max_depth': 3, 'n_esti...         0.987429   \n",
       "\n",
       "    rank_test_score  \n",
       "48                1  \n",
       "49                2  \n",
       "51                3  \n",
       "44                3  \n",
       "47                3  \n",
       "50                3  \n",
       "46                7  \n",
       "95                7  \n",
       "53                7  \n",
       "52                7  "
      ]
     },
     "execution_count": 69,
     "metadata": {},
     "output_type": "execute_result"
    }
   ],
   "source": [
    "result[['params', 'mean_test_score', 'rank_test_score']].head(10)"
   ]
  },
  {
   "cell_type": "code",
   "execution_count": 70,
   "id": "03fd0204",
   "metadata": {
    "scrolled": true
   },
   "outputs": [
    {
     "data": {
      "text/plain": [
       "<AxesSubplot:title={'center':'Feature importance'}, xlabel='F score', ylabel='Features'>"
      ]
     },
     "execution_count": 70,
     "metadata": {},
     "output_type": "execute_result"
    },
    {
     "data": {
      "image/png": "[encoded data removed]",
      "text/plain": [
       "<Figure size 432x288 with 1 Axes>"
      ]
     },
     "metadata": {
      "needs_background": "light"
     },
     "output_type": "display_data"
    }
   ],
   "source": [
    "fig, ax = plt.subplots()\n",
    "plot_importance(xgb, ax=ax)"
   ]
  },
  {
   "cell_type": "code",
   "execution_count": null,
   "id": "0b088283",
   "metadata": {},
   "outputs": [],
   "source": []
  },
  {
   "cell_type": "code",
   "execution_count": null,
   "id": "4eb60000",
   "metadata": {},
   "outputs": [],
   "source": []
  },
  {
   "cell_type": "markdown",
   "id": "d5cdacd9",
   "metadata": {},
   "source": [
    "# Appendix"
   ]
  },
  {
   "cell_type": "markdown",
   "id": "a665b89d",
   "metadata": {},
   "source": [
    "# 1. Boosting 관련 함수 define 또는 hyper-parmeter 설명\n",
    "\n",
    "- objective [기본설정값=reg:linear]: 지도학습 손실 최소화 함수를 정의\n",
    "\n",
    " binary:logistic: 이항 분류 문제 로직스틱 회귀모형으로 반환값이 클래스가 아니라 예측 확률.\n",
    " \n",
    " multi:softmax: 다항 분류 문제의 경우 소프트맥스(Softmax)를 사용해서 분류하는데 반횐되는 값이 예측확률이 아니라 클래스임. 또한 num_class도 지정해야함.\n",
    " \n",
    " multi:softprob: 각 클래스 범주에 속하는 예측확률을 반환함.\n",
    " \n",
    " \n",
    "- eval_metric: 설정한 objective별로 기본설정값이 지정되어 있음.\n",
    "\n",
    " rmse: root mean square error\n",
    " \n",
    " mae: mean absolute error\n",
    " \n",
    " logloss: negative log-likelihood\n",
    " \n",
    " error: Binary classification error rate (0.5 threshold)\n",
    " \n",
    " merror: Multiclass classification error rate\n",
    " \n",
    " mlogloss: Multiclass logloss\n",
    " \n",
    " auc: Area under the curve\n",
    "\n",
    "- seed [기본설정값: 0]: 재현가능하도록 난수를 고정시킴.\n",
    "\n",
    "- booster: 의사결정 기반 모형(gbtree), 선형 모형(linear)\n",
    "- mthread: 병렬처리에 사용되는 코어수, 특정값을 지정하지 않는 경우 자동으로 시스템 코어수를 탐지하여 병렬처리에 동원함.\n",
    "\n",
    "- eta [기본설정값: 0.3]: GBM에 학습율과 유사하고 일반적으로 0.01 ~ 0.2 값이 사용됨\n",
    "- min_child_weight [기본설정값: 1]: 과적합(overfitting)을 방지할 목적으로 사용되는데, 너무 높은 값은 과소적합(underfitting)을 야기하기 때문에 CV를 사용해서 적절한 값이 제시되어야 한다.\n",
    "- max_depth [기본설정값: 6]: 과적합 방지를 위해서 사용되는데 역시 CV를 사용해서 적절한 값이 제시되어야 하고 보통 3-10 사이 값이 적용된다.\n",
    "- max_leaf_nodes: max_leaf_nodes 값이 설정되면 max_depth는 무시된다. 따라서 두값 중 하나를 사용한다.\n",
    "- max_delta_step [기본설정값: 0]: 일반적으로 잘 사용되지 않음.\n",
    "- subsample [기본설정값: 1]: 개별 의사결정나무 모형에 사용되는 임의 표본수를 지정. 보통 0.5 ~ 1 사용됨.\n",
    "- colsample_bytree [기본설정값: 1]: 개별 의사결정나무 모형에 사용될 변수갯수를 지정. 보통 0.5 ~ 1 사용됨.\n",
    "- colsample_bylevel [기본설정값: 1]: subsample, colsample_bytree 두 초모수 설정을 통해서 이미 의사결정나무 모형 개발에 사용될 변수갯수와 관측점 갯수를 사용했는데 추가로 colsample_bylevel을 지정하는 것이 특별한 의미를 갖는지 의문이 듦.\n",
    "- lambda [기본설정값: 1]: 능선 회쉬(Ridge Regression)의 L2 정규화(regularization) 초모수. 그다지 많이 사용되고 있지는 않음.\n",
    "- alpha [기본설정값: 0]: 라쏘 회귀(Lasso Regression)의 L1 정규화(regularization) 초모수로 차원이 높은 경우 알고리즘 속도를 높일 수 있음.\n",
    "- scale_pos_weight [기본설정값: 1]: 클래스 불균형이 심한 경우 0보다 큰 값을 지정하여 효과를 볼 수 있음.\n",
    "\n",
    "- n_estimators (또는 num_boost_round): 결정트리 개수\n",
    "- max_depth: 트리 깊이\n",
    "- colsample_bytree: 컬럼의 샘플링 비율 (random forest의 max_features와 유사한 기능)\n",
    "- subsample: weak learner가 학습에 사용하는 데이터 샘플링 비율\n",
    "- learning_rate: 학습률\n",
    "- min_split_loss: 리프노드를 추가적으로 나눌지 결정하는 값\n",
    "- reg_lambda: L2규제\n",
    "- reg_alpha: L1규제\n",
    "\n",
    "### 참고: https://statkclee.github.io/model/model-python-xgboost-hyper.html\n",
    "### 참고: https://lsjsj92.tistory.com/547\n",
    "### 참고: https://xgboost.readthedocs.io/en/latest/parameter.html\n",
    "### 참고: https://www.kaggle.com/lifesailor/xgboost"
   ]
  },
  {
   "cell_type": "markdown",
   "id": "d2f0fc22",
   "metadata": {},
   "source": [
    "# 2. Stacking"
   ]
  },
  {
   "cell_type": "code",
   "execution_count": 23,
   "id": "4f29d57f",
   "metadata": {},
   "outputs": [],
   "source": [
    "# 여러 분류모델 구축\n",
    "logistic = LogisticRegression(solver='liblinear',\n",
    "                              penalty='l2',\n",
    "                              C=0.001,\n",
    "                              random_state=2021)\n",
    "\n",
    "tree = DecisionTreeClassifier(max_depth=None,\n",
    "                              criterion='entropy',\n",
    "                              random_state=2021)\n",
    "\n",
    "knn = KNeighborsClassifier(n_neighbors=1,\n",
    "                            p=2,\n",
    "                            metric='minkowski')\n",
    "\n",
    "\n",
    "voting_estimators = [('logistic', logistic), ('tree', tree), ('knn', knn)]\n",
    "\n",
    "voting = VotingClassifier(estimators = voting_estimators,\n",
    "                          voting='soft')\n",
    "\n",
    "clf_labels = ['Logistic regression', 'Decision tree', 'KNN', 'Majority voting']\n",
    "\n",
    "\n",
    "all_clf = [logistic, tree, knn, voting]"
   ]
  },
  {
   "cell_type": "code",
   "execution_count": 24,
   "id": "30b47c63",
   "metadata": {},
   "outputs": [
    {
     "name": "stdout",
     "output_type": "stream",
     "text": [
      "ROC AUC: 0.921 (+/- 0.015) [Logistic regression]\n",
      "ROC AUC: 0.947 (+/- 0.016) [Decision tree]\n",
      "ROC AUC: 0.694 (+/- 0.044) [KNN]\n",
      "ROC AUC: 0.971 (+/- 0.009) [Majority voting]\n"
     ]
    }
   ],
   "source": [
    "# 모델 검정: AUC\n",
    "\n",
    "for clf, label in zip(all_clf, clf_labels):\n",
    "    scores = cross_val_score(estimator=clf,\n",
    "                             X=X_train,\n",
    "                             y=y_train,\n",
    "                             cv=10,\n",
    "                             scoring='roc_auc')\n",
    "    print(\"ROC AUC: %0.3f (+/- %0.3f) [%s]\"\n",
    "          % (scores.mean(), scores.std(), label))"
   ]
  },
  {
   "cell_type": "code",
   "execution_count": 25,
   "id": "c6c37c15",
   "metadata": {},
   "outputs": [
    {
     "data": {
      "image/png": "[encoded data removed]",
      "text/plain": [
       "<Figure size 432x288 with 1 Axes>"
      ]
     },
     "metadata": {
      "needs_background": "light"
     },
     "output_type": "display_data"
    }
   ],
   "source": [
    "# ROC Curve\n",
    "\n",
    "colors = ['black', 'orange', 'blue', 'green']\n",
    "linestyles = [':', '--', '-.', '-']\n",
    "\n",
    "for clf, label, clr, ls \\\n",
    "        in zip(all_clf, clf_labels, colors, linestyles):\n",
    "\n",
    "    clf.fit(X_train, y_train)\n",
    "    y_pred = clf.predict_proba(X_test)[:, 1]\n",
    "    fpr, tpr, thresholds = roc_curve(y_true=y_test,\n",
    "                                     y_score=y_pred)\n",
    "    roc_auc = auc(x=fpr, y=tpr)\n",
    "    plt.plot(fpr, tpr,\n",
    "             color=clr,\n",
    "             linestyle=ls,\n",
    "             label='%s (auc = %0.3f)' % (label, roc_auc))\n",
    "\n",
    "plt.legend(loc='lower right')\n",
    "plt.plot([0, 1], [0, 1],\n",
    "         linestyle='--',\n",
    "         color='gray',\n",
    "         linewidth=2)\n",
    "\n",
    "plt.xlim([-0.1, 1.1])\n",
    "plt.ylim([-0.1, 1.1])\n",
    "plt.grid(alpha=0.5)\n",
    "plt.xlabel('False positive rate (FPR)')\n",
    "plt.ylabel('True positive rate (TPR)')\n",
    "\n",
    "plt.show()"
   ]
  },
  {
   "cell_type": "markdown",
   "id": "f6288402",
   "metadata": {},
   "source": [
    "### 최적화\n",
    "- Hyper-parameter tuning"
   ]
  },
  {
   "cell_type": "code",
   "execution_count": 26,
   "id": "88c42d56",
   "metadata": {},
   "outputs": [
    {
     "data": {
      "text/plain": [
       "{'estimators': [('logistic',\n",
       "   LogisticRegression(C=0.001, random_state=2021, solver='liblinear')),\n",
       "  ('tree', DecisionTreeClassifier(criterion='entropy', random_state=2021)),\n",
       "  ('knn', KNeighborsClassifier(n_neighbors=1))],\n",
       " 'flatten_transform': True,\n",
       " 'n_jobs': None,\n",
       " 'verbose': False,\n",
       " 'voting': 'soft',\n",
       " 'weights': None,\n",
       " 'logistic': LogisticRegression(C=0.001, random_state=2021, solver='liblinear'),\n",
       " 'tree': DecisionTreeClassifier(criterion='entropy', random_state=2021),\n",
       " 'knn': KNeighborsClassifier(n_neighbors=1),\n",
       " 'logistic__C': 0.001,\n",
       " 'logistic__class_weight': None,\n",
       " 'logistic__dual': False,\n",
       " 'logistic__fit_intercept': True,\n",
       " 'logistic__intercept_scaling': 1,\n",
       " 'logistic__l1_ratio': None,\n",
       " 'logistic__max_iter': 100,\n",
       " 'logistic__multi_class': 'auto',\n",
       " 'logistic__n_jobs': None,\n",
       " 'logistic__penalty': 'l2',\n",
       " 'logistic__random_state': 2021,\n",
       " 'logistic__solver': 'liblinear',\n",
       " 'logistic__tol': 0.0001,\n",
       " 'logistic__verbose': 0,\n",
       " 'logistic__warm_start': False,\n",
       " 'tree__ccp_alpha': 0.0,\n",
       " 'tree__class_weight': None,\n",
       " 'tree__criterion': 'entropy',\n",
       " 'tree__max_depth': None,\n",
       " 'tree__max_features': None,\n",
       " 'tree__max_leaf_nodes': None,\n",
       " 'tree__min_impurity_decrease': 0.0,\n",
       " 'tree__min_impurity_split': None,\n",
       " 'tree__min_samples_leaf': 1,\n",
       " 'tree__min_samples_split': 2,\n",
       " 'tree__min_weight_fraction_leaf': 0.0,\n",
       " 'tree__random_state': 2021,\n",
       " 'tree__splitter': 'best',\n",
       " 'knn__algorithm': 'auto',\n",
       " 'knn__leaf_size': 30,\n",
       " 'knn__metric': 'minkowski',\n",
       " 'knn__metric_params': None,\n",
       " 'knn__n_jobs': None,\n",
       " 'knn__n_neighbors': 1,\n",
       " 'knn__p': 2,\n",
       " 'knn__weights': 'uniform'}"
      ]
     },
     "execution_count": 26,
     "metadata": {},
     "output_type": "execute_result"
    }
   ],
   "source": [
    "# Grid Search\n",
    "voting.get_params()"
   ]
  },
  {
   "cell_type": "code",
   "execution_count": 29,
   "id": "7dfcccf7",
   "metadata": {},
   "outputs": [
    {
     "name": "stdout",
     "output_type": "stream",
     "text": [
      "0.924 +/- 0.009 {'knn__n_neighbors': 1, 'logistic__C': 0.001, 'tree__max_depth': 1}\n",
      "0.953 +/- 0.007 {'knn__n_neighbors': 1, 'logistic__C': 0.001, 'tree__max_depth': 2}\n",
      "0.971 +/- 0.005 {'knn__n_neighbors': 1, 'logistic__C': 0.001, 'tree__max_depth': 3}\n",
      "0.975 +/- 0.004 {'knn__n_neighbors': 1, 'logistic__C': 0.001, 'tree__max_depth': 4}\n",
      "0.974 +/- 0.005 {'knn__n_neighbors': 1, 'logistic__C': 0.001, 'tree__max_depth': 5}\n",
      "0.944 +/- 0.007 {'knn__n_neighbors': 1, 'logistic__C': 0.1, 'tree__max_depth': 1}\n",
      "0.967 +/- 0.006 {'knn__n_neighbors': 1, 'logistic__C': 0.1, 'tree__max_depth': 2}\n",
      "0.980 +/- 0.004 {'knn__n_neighbors': 1, 'logistic__C': 0.1, 'tree__max_depth': 3}\n",
      "0.981 +/- 0.004 {'knn__n_neighbors': 1, 'logistic__C': 0.1, 'tree__max_depth': 4}\n",
      "0.979 +/- 0.005 {'knn__n_neighbors': 1, 'logistic__C': 0.1, 'tree__max_depth': 5}\n",
      "0.948 +/- 0.007 {'knn__n_neighbors': 1, 'logistic__C': 100.0, 'tree__max_depth': 1}\n",
      "0.970 +/- 0.005 {'knn__n_neighbors': 1, 'logistic__C': 100.0, 'tree__max_depth': 2}\n",
      "0.982 +/- 0.004 {'knn__n_neighbors': 1, 'logistic__C': 100.0, 'tree__max_depth': 3}\n",
      "0.983 +/- 0.004 {'knn__n_neighbors': 1, 'logistic__C': 100.0, 'tree__max_depth': 4}\n",
      "0.981 +/- 0.005 {'knn__n_neighbors': 1, 'logistic__C': 100.0, 'tree__max_depth': 5}\n",
      "0.928 +/- 0.008 {'knn__n_neighbors': 2, 'logistic__C': 0.001, 'tree__max_depth': 1}\n",
      "0.960 +/- 0.006 {'knn__n_neighbors': 2, 'logistic__C': 0.001, 'tree__max_depth': 2}\n",
      "0.976 +/- 0.004 {'knn__n_neighbors': 2, 'logistic__C': 0.001, 'tree__max_depth': 3}\n",
      "0.980 +/- 0.003 {'knn__n_neighbors': 2, 'logistic__C': 0.001, 'tree__max_depth': 4}\n",
      "0.979 +/- 0.004 {'knn__n_neighbors': 2, 'logistic__C': 0.001, 'tree__max_depth': 5}\n",
      "0.950 +/- 0.007 {'knn__n_neighbors': 2, 'logistic__C': 0.1, 'tree__max_depth': 1}\n",
      "0.972 +/- 0.005 {'knn__n_neighbors': 2, 'logistic__C': 0.1, 'tree__max_depth': 2}\n",
      "0.982 +/- 0.003 {'knn__n_neighbors': 2, 'logistic__C': 0.1, 'tree__max_depth': 3}\n",
      "0.983 +/- 0.005 {'knn__n_neighbors': 2, 'logistic__C': 0.1, 'tree__max_depth': 4}\n",
      "0.981 +/- 0.005 {'knn__n_neighbors': 2, 'logistic__C': 0.1, 'tree__max_depth': 5}\n",
      "0.956 +/- 0.006 {'knn__n_neighbors': 2, 'logistic__C': 100.0, 'tree__max_depth': 1}\n",
      "0.974 +/- 0.005 {'knn__n_neighbors': 2, 'logistic__C': 100.0, 'tree__max_depth': 2}\n",
      "0.984 +/- 0.003 {'knn__n_neighbors': 2, 'logistic__C': 100.0, 'tree__max_depth': 3}\n",
      "0.984 +/- 0.004 {'knn__n_neighbors': 2, 'logistic__C': 100.0, 'tree__max_depth': 4}\n",
      "0.982 +/- 0.005 {'knn__n_neighbors': 2, 'logistic__C': 100.0, 'tree__max_depth': 5}\n",
      "0.928 +/- 0.007 {'knn__n_neighbors': 3, 'logistic__C': 0.001, 'tree__max_depth': 1}\n",
      "0.960 +/- 0.006 {'knn__n_neighbors': 3, 'logistic__C': 0.001, 'tree__max_depth': 2}\n",
      "0.977 +/- 0.004 {'knn__n_neighbors': 3, 'logistic__C': 0.001, 'tree__max_depth': 3}\n",
      "0.981 +/- 0.004 {'knn__n_neighbors': 3, 'logistic__C': 0.001, 'tree__max_depth': 4}\n",
      "0.980 +/- 0.004 {'knn__n_neighbors': 3, 'logistic__C': 0.001, 'tree__max_depth': 5}\n",
      "0.951 +/- 0.007 {'knn__n_neighbors': 3, 'logistic__C': 0.1, 'tree__max_depth': 1}\n",
      "0.971 +/- 0.005 {'knn__n_neighbors': 3, 'logistic__C': 0.1, 'tree__max_depth': 2}\n",
      "0.983 +/- 0.004 {'knn__n_neighbors': 3, 'logistic__C': 0.1, 'tree__max_depth': 3}\n",
      "0.982 +/- 0.005 {'knn__n_neighbors': 3, 'logistic__C': 0.1, 'tree__max_depth': 4}\n",
      "0.981 +/- 0.005 {'knn__n_neighbors': 3, 'logistic__C': 0.1, 'tree__max_depth': 5}\n",
      "0.957 +/- 0.007 {'knn__n_neighbors': 3, 'logistic__C': 100.0, 'tree__max_depth': 1}\n",
      "0.973 +/- 0.005 {'knn__n_neighbors': 3, 'logistic__C': 100.0, 'tree__max_depth': 2}\n",
      "0.984 +/- 0.004 {'knn__n_neighbors': 3, 'logistic__C': 100.0, 'tree__max_depth': 3}\n",
      "0.983 +/- 0.005 {'knn__n_neighbors': 3, 'logistic__C': 100.0, 'tree__max_depth': 4}\n",
      "0.981 +/- 0.005 {'knn__n_neighbors': 3, 'logistic__C': 100.0, 'tree__max_depth': 5}\n",
      "0.925 +/- 0.006 {'knn__n_neighbors': 4, 'logistic__C': 0.001, 'tree__max_depth': 1}\n",
      "0.960 +/- 0.005 {'knn__n_neighbors': 4, 'logistic__C': 0.001, 'tree__max_depth': 2}\n",
      "0.976 +/- 0.004 {'knn__n_neighbors': 4, 'logistic__C': 0.001, 'tree__max_depth': 3}\n",
      "0.980 +/- 0.004 {'knn__n_neighbors': 4, 'logistic__C': 0.001, 'tree__max_depth': 4}\n",
      "0.979 +/- 0.004 {'knn__n_neighbors': 4, 'logistic__C': 0.001, 'tree__max_depth': 5}\n",
      "0.950 +/- 0.007 {'knn__n_neighbors': 4, 'logistic__C': 0.1, 'tree__max_depth': 1}\n",
      "0.970 +/- 0.005 {'knn__n_neighbors': 4, 'logistic__C': 0.1, 'tree__max_depth': 2}\n",
      "0.982 +/- 0.004 {'knn__n_neighbors': 4, 'logistic__C': 0.1, 'tree__max_depth': 3}\n",
      "0.981 +/- 0.005 {'knn__n_neighbors': 4, 'logistic__C': 0.1, 'tree__max_depth': 4}\n",
      "0.980 +/- 0.006 {'knn__n_neighbors': 4, 'logistic__C': 0.1, 'tree__max_depth': 5}\n",
      "0.956 +/- 0.006 {'knn__n_neighbors': 4, 'logistic__C': 100.0, 'tree__max_depth': 1}\n",
      "0.972 +/- 0.005 {'knn__n_neighbors': 4, 'logistic__C': 100.0, 'tree__max_depth': 2}\n",
      "0.983 +/- 0.004 {'knn__n_neighbors': 4, 'logistic__C': 100.0, 'tree__max_depth': 3}\n",
      "0.982 +/- 0.005 {'knn__n_neighbors': 4, 'logistic__C': 100.0, 'tree__max_depth': 4}\n",
      "0.981 +/- 0.005 {'knn__n_neighbors': 4, 'logistic__C': 100.0, 'tree__max_depth': 5}\n",
      "0.924 +/- 0.007 {'knn__n_neighbors': 5, 'logistic__C': 0.001, 'tree__max_depth': 1}\n",
      "0.959 +/- 0.006 {'knn__n_neighbors': 5, 'logistic__C': 0.001, 'tree__max_depth': 2}\n",
      "0.976 +/- 0.004 {'knn__n_neighbors': 5, 'logistic__C': 0.001, 'tree__max_depth': 3}\n",
      "0.980 +/- 0.004 {'knn__n_neighbors': 5, 'logistic__C': 0.001, 'tree__max_depth': 4}\n",
      "0.979 +/- 0.005 {'knn__n_neighbors': 5, 'logistic__C': 0.001, 'tree__max_depth': 5}\n",
      "0.950 +/- 0.007 {'knn__n_neighbors': 5, 'logistic__C': 0.1, 'tree__max_depth': 1}\n",
      "0.970 +/- 0.005 {'knn__n_neighbors': 5, 'logistic__C': 0.1, 'tree__max_depth': 2}\n",
      "0.982 +/- 0.004 {'knn__n_neighbors': 5, 'logistic__C': 0.1, 'tree__max_depth': 3}\n",
      "0.981 +/- 0.005 {'knn__n_neighbors': 5, 'logistic__C': 0.1, 'tree__max_depth': 4}\n",
      "0.980 +/- 0.006 {'knn__n_neighbors': 5, 'logistic__C': 0.1, 'tree__max_depth': 5}\n",
      "0.956 +/- 0.007 {'knn__n_neighbors': 5, 'logistic__C': 100.0, 'tree__max_depth': 1}\n",
      "0.972 +/- 0.005 {'knn__n_neighbors': 5, 'logistic__C': 100.0, 'tree__max_depth': 2}\n",
      "0.983 +/- 0.004 {'knn__n_neighbors': 5, 'logistic__C': 100.0, 'tree__max_depth': 3}\n",
      "0.981 +/- 0.005 {'knn__n_neighbors': 5, 'logistic__C': 100.0, 'tree__max_depth': 4}\n",
      "0.980 +/- 0.005 {'knn__n_neighbors': 5, 'logistic__C': 100.0, 'tree__max_depth': 5}\n"
     ]
    }
   ],
   "source": [
    "params = {'logistic__C': [0.001, 0.1, 100.0],\n",
    "          'tree__max_depth': [1, 2, 3, 4, 5],\n",
    "          'knn__n_neighbors': [1, 2, 3, 4, 5]}\n",
    "\n",
    "grid = GridSearchCV(estimator=voting,\n",
    "                    param_grid=params,\n",
    "                    cv=10,\n",
    "                    scoring='roc_auc')\n",
    "\n",
    "grid.fit(X_train, y_train)\n",
    "\n",
    "for r, _ in enumerate(grid.cv_results_['mean_test_score']):\n",
    "    print(\"%0.3f +/- %0.3f %r\"\n",
    "          % (grid.cv_results_['mean_test_score'][r], \n",
    "             grid.cv_results_['std_test_score'][r] / 2.0, \n",
    "             grid.cv_results_['params'][r]))"
   ]
  },
  {
   "cell_type": "code",
   "execution_count": 30,
   "id": "2e5d1ffa",
   "metadata": {},
   "outputs": [
    {
     "name": "stdout",
     "output_type": "stream",
     "text": [
      "최적의 파타미터: {'knn__n_neighbors': 3, 'logistic__C': 100.0, 'tree__max_depth': 3}\n",
      "ACU: 0.984\n"
     ]
    }
   ],
   "source": [
    "print('최적의 파타미터: %s' % grid.best_params_)\n",
    "print('ACU: %.3f' % grid.best_score_)"
   ]
  },
  {
   "cell_type": "markdown",
   "id": "938b64b4",
   "metadata": {},
   "source": [
    "참고:\n",
    "\n",
    "https://cafe.naver.com/kcbig/29\n",
    "\n",
    "https://cafe.naver.com/kcbig/28\n",
    "\n",
    "\n",
    "\n",
    "https://www.youtube.com/watch?v=oG9Z1aUMWtU\n",
    "\n",
    "https://www.youtube.com/watch?v=XUHRKCmGEUY\n",
    "\n",
    "https://www.youtube.com/watch?v=nsx3kHGVLlo\n",
    "\n",
    "https://velog.io/@fiifa92/%EC%95%99%EC%83%81%EB%B8%94Ensemble-%EA%B8%B0%EB%B2%95\n",
    "\n",
    "\n",
    "-Bootstrapping\n",
    "\n",
    "https://pbj0812.tistory.com/319\n",
    "\n",
    "\n",
    "-Majority Voting\n",
    "\n",
    "https://www.youtube.com/watch?v=RmQuu0rsJz4\n",
    "\n",
    "\n",
    "-Bagging\n",
    "\n",
    "https://todayisbetterthanyesterday.tistory.com/50\n",
    "\n",
    "\n",
    "-Random Forest\n",
    "\n",
    "https://todayisbetterthanyesterday.tistory.com/51?category=821465\n",
    "\n",
    "\n",
    "-Boosting\n",
    "\n",
    "https://todayisbetterthanyesterday.tistory.com/52?category=821465\n",
    "\n",
    "https://lsjsj92.tistory.com/547\n",
    "\n",
    "\n",
    "https://github.com/lsjsj92/machine_learning_basic\n",
    "\n",
    "https://towardsdatascience.com/boosting-techniques-in-python-predicting-hotel-cancellations-62b7a76ffa6c\n",
    "\n",
    "https://github.com/lsjsj92/machine_learning_basic/blob/master/009.%20XGboost%2C%20LightGBM.ipynb\n",
    "\n",
    "https://towardsdatascience.com/boosting-techniques-in-python-predicting-hotel-cancellations-62b7a76ffa6c"
   ]
  },
  {
   "cell_type": "code",
   "execution_count": null,
   "id": "1ab98c95",
   "metadata": {},
   "outputs": [],
   "source": []
  }
 ],
 "metadata": {
  "kernelspec": {
   "display_name": "Python 3",
   "language": "python",
   "name": "python3"
  },
  "language_info": {
   "codemirror_mode": {
    "name": "ipython",
    "version": 3
   },
   "file_extension": ".py",
   "mimetype": "text/x-python",
   "name": "python",
   "nbconvert_exporter": "python",
   "pygments_lexer": "ipython3",
   "version": "3.8.8"
  }
 },
 "nbformat": 4,
 "nbformat_minor": 5
}
